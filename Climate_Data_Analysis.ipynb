{
 "cells": [
  {
   "cell_type": "markdown",
   "metadata": {},
   "source": [
    "Import necessary libraries and import the data"
   ]
  },
  {
   "cell_type": "code",
   "execution_count": 1,
   "metadata": {},
   "outputs": [],
   "source": [
    "from IPython.core.interactiveshell import InteractiveShell\n",
    "InteractiveShell.ast_node_interactivity = \"all\"\n",
    "\n",
    "import pandas as pd\n",
    "import numpy as np"
   ]
  },
  {
   "cell_type": "code",
   "execution_count": 2,
   "metadata": {},
   "outputs": [],
   "source": [
    "temp_o = pd.read_csv('Annual_Surface_Temperature_Change.csv')\n",
    "dis_o = pd.read_csv('Climate-related_Disasters_Frequency.csv')\n",
    "fc_o = pd.read_csv('Forest_and_Carbon.csv')\n",
    "land_o = pd.read_csv('Land_Cover_Accounts.csv')\n",
    "co_o = pd.read_csv('owid-co2-data.csv')\n",
    "ccode = pd.read_csv('iso-country-codes.csv')"
   ]
  },
  {
   "cell_type": "code",
   "execution_count": 3,
   "metadata": {},
   "outputs": [],
   "source": [
    "ccode.rename(columns={'Alpha-3 code': 'ISO3'}, inplace=True)"
   ]
  },
  {
   "cell_type": "markdown",
   "metadata": {},
   "source": [
    "## Clean the data"
   ]
  },
  {
   "cell_type": "markdown",
   "metadata": {},
   "source": [
    "There is a column for each year in the datasets, which needs to be transposed into the same column for analysis. Therefore, I used the melt function to do so. Note that each dataset has a different number of years, so the second argument within the function grabs the correct number of columns for that dataframe"
   ]
  },
  {
   "cell_type": "code",
   "execution_count": 4,
   "metadata": {},
   "outputs": [],
   "source": [
    "def clean_dataset(df, number):\n",
    "    columns = df.columns.tolist()\n",
    "    column_list = columns[number:]\n",
    "    melt_df = pd.melt(df, id_vars=['Country','Unit','Indicator','ISO3'], value_vars=column_list,\n",
    "               var_name='Year', value_name='value')\n",
    "    melt_df['Year'] = melt_df['Year'].str[1:]\n",
    "    return melt_df"
   ]
  },
  {
   "cell_type": "code",
   "execution_count": 5,
   "metadata": {},
   "outputs": [],
   "source": [
    "temp = clean_dataset(temp_o,-62)\n",
    "dis = clean_dataset(dis_o,-43)\n",
    "fc = clean_dataset(fc_o,-29)\n",
    "land = clean_dataset(land_o,-29)"
   ]
  },
  {
   "cell_type": "markdown",
   "metadata": {},
   "source": [
    "Disaster df had a lot of different values in it, so I wanted to create a df for each. Had to do some manipulation for it, including: \n",
    "1. grabbing the value out of the 'indicator' section (drought, flood, etc.)\n",
    "2. remove a space\n",
    "3. create a new df for each based on the indicator"
   ]
  },
  {
   "cell_type": "code",
   "execution_count": 6,
   "metadata": {
    "scrolled": true
   },
   "outputs": [],
   "source": [
    "dis.fillna(0,inplace=True)"
   ]
  },
  {
   "cell_type": "code",
   "execution_count": 7,
   "metadata": {},
   "outputs": [],
   "source": [
    "dis['Indicator'] = dis['Indicator'].str.split(':').str[-1]\n",
    "dis['Indicator'] = dis['Indicator'].str.replace(' ', '')"
   ]
  },
  {
   "cell_type": "markdown",
   "metadata": {},
   "source": [
    "Pivot all the values of disasters into columns, then only grab the total disasters"
   ]
  },
  {
   "cell_type": "code",
   "execution_count": 8,
   "metadata": {},
   "outputs": [],
   "source": [
    "dis = dis.pivot(index=['Country','Year','ISO3'], columns='Indicator', values='value').reset_index()\n",
    "dis.fillna(0,inplace=True)"
   ]
  },
  {
   "cell_type": "code",
   "execution_count": 9,
   "metadata": {},
   "outputs": [],
   "source": [
    "dis = dis[['Country', 'Year', 'ISO3', 'TOTAL']]\n",
    "dis.rename(columns={'TOTAL': 'total_disasters'}, inplace=True)"
   ]
  },
  {
   "cell_type": "markdown",
   "metadata": {},
   "source": [
    "Only select applicable temperature dataframe"
   ]
  },
  {
   "cell_type": "code",
   "execution_count": 10,
   "metadata": {},
   "outputs": [],
   "source": [
    "temp.rename(columns={'value': 'temp_c'}, inplace=True)"
   ]
  },
  {
   "cell_type": "code",
   "execution_count": 11,
   "metadata": {},
   "outputs": [],
   "source": [
    "temp = temp[['ISO3','Country','Year','temp_c']]"
   ]
  },
  {
   "cell_type": "markdown",
   "metadata": {},
   "source": [
    "Pivot data for fc and land"
   ]
  },
  {
   "cell_type": "code",
   "execution_count": 12,
   "metadata": {},
   "outputs": [],
   "source": [
    "fc_pivoted = fc.pivot_table(index=['Country','Year','ISO3'], columns='Indicator', values='value', aggfunc='mean').reset_index()"
   ]
  },
  {
   "cell_type": "code",
   "execution_count": 13,
   "metadata": {},
   "outputs": [],
   "source": [
    "land_pivoted = land.pivot_table(index=['Country','Year','ISO3'], columns='Indicator', values='value', aggfunc='mean').reset_index()"
   ]
  },
  {
   "cell_type": "markdown",
   "metadata": {},
   "source": [
    "Join all the columns based on their ISO3 value (since that's standardized)"
   ]
  },
  {
   "cell_type": "code",
   "execution_count": 14,
   "metadata": {},
   "outputs": [],
   "source": [
    "land = pd.merge(ccode[['ISO3']], land_pivoted, on='ISO3', how='inner')\n",
    "fc = pd.merge(ccode[['ISO3']], fc_pivoted, on='ISO3', how='inner')\n",
    "temp = pd.merge(ccode[['ISO3']], temp, on='ISO3', how='inner')\n",
    "dis = pd.merge(ccode[['ISO3']], dis, on='ISO3', how='inner')"
   ]
  },
  {
   "cell_type": "code",
   "execution_count": 15,
   "metadata": {},
   "outputs": [],
   "source": [
    "land['Year'] = land['Year'].astype(int)\n",
    "fc['Year'] = fc['Year'].astype(int)\n",
    "temp['Year'] = temp['Year'].astype(int)\n",
    "dis['Year'] = dis['Year'].astype(int)"
   ]
  },
  {
   "cell_type": "markdown",
   "metadata": {},
   "source": [
    "Merge data into one dataframe (for future analysis, can use inputs to predict values of outputs"
   ]
  },
  {
   "cell_type": "code",
   "execution_count": 16,
   "metadata": {},
   "outputs": [],
   "source": [
    "df_inputs = pd.merge(land, fc, on=['Country', 'Year', 'ISO3'])"
   ]
  },
  {
   "cell_type": "code",
   "execution_count": 17,
   "metadata": {},
   "outputs": [],
   "source": [
    "df_outputs = pd.merge(temp, dis, on=['Country', 'Year', 'ISO3'])"
   ]
  },
  {
   "cell_type": "code",
   "execution_count": 18,
   "metadata": {},
   "outputs": [],
   "source": [
    "df = pd.merge(df_outputs, df_inputs, on=['Country', 'Year', 'ISO3'])"
   ]
  },
  {
   "cell_type": "markdown",
   "metadata": {},
   "source": [
    "Remove all countries that have at least one NaN value in the temp_c or total_disasters"
   ]
  },
  {
   "cell_type": "code",
   "execution_count": 19,
   "metadata": {},
   "outputs": [],
   "source": [
    "ISO3_List = df.ISO3.unique()"
   ]
  },
  {
   "cell_type": "code",
   "execution_count": 20,
   "metadata": {},
   "outputs": [],
   "source": [
    "NaN_values = df[pd.isna(df['temp_c']) | pd.isna(df['total_disasters'])]"
   ]
  },
  {
   "cell_type": "code",
   "execution_count": 21,
   "metadata": {},
   "outputs": [],
   "source": [
    "NaN_list = NaN_values.ISO3.unique()"
   ]
  },
  {
   "cell_type": "code",
   "execution_count": 22,
   "metadata": {},
   "outputs": [],
   "source": [
    "iso_list = []\n",
    "for c in ISO3_List:\n",
    "    if c not in NaN_list:\n",
    "        iso_list.append(c)"
   ]
  },
  {
   "cell_type": "code",
   "execution_count": 23,
   "metadata": {},
   "outputs": [],
   "source": [
    "df = df[df['ISO3'].isin(iso_list)]"
   ]
  },
  {
   "cell_type": "markdown",
   "metadata": {},
   "source": [
    "Drop all columns that have NaN values for simplicity"
   ]
  },
  {
   "cell_type": "code",
   "execution_count": 24,
   "metadata": {},
   "outputs": [],
   "source": [
    "df = df.dropna(axis=1)"
   ]
  },
  {
   "cell_type": "markdown",
   "metadata": {},
   "source": [
    "### Normalize the Data\n",
    "To compare the land features of countries, we need to normalize the data by making the first year's data a value of 1, then calculating percentage changes"
   ]
  },
  {
   "cell_type": "code",
   "execution_count": 25,
   "metadata": {},
   "outputs": [],
   "source": [
    "df_normalized = df.copy()"
   ]
  },
  {
   "cell_type": "markdown",
   "metadata": {},
   "source": [
    "Right now there is a dataframe with all countries in it, so we can't normalize each column. Therefore, I created a separate dataframe for each country to run the calculation, then combined them into a dataset again"
   ]
  },
  {
   "cell_type": "code",
   "execution_count": 26,
   "metadata": {},
   "outputs": [],
   "source": [
    "split_dataframes = {}"
   ]
  },
  {
   "cell_type": "code",
   "execution_count": 27,
   "metadata": {},
   "outputs": [],
   "source": [
    "grouped = df.groupby('ISO3')"
   ]
  },
  {
   "cell_type": "code",
   "execution_count": 28,
   "metadata": {},
   "outputs": [],
   "source": [
    "append_df = []"
   ]
  },
  {
   "cell_type": "code",
   "execution_count": 29,
   "metadata": {},
   "outputs": [],
   "source": [
    "for ISO3, group in grouped:\n",
    "    for column in group.columns[5:]:\n",
    "        if group[column].iloc[0] == 0:\n",
    "            group[column] = group[column]\n",
    "        else:\n",
    "            group[column] = group[column] / group[column].iloc[0]\n",
    "    locals()[ISO3] = group\n",
    "    append_df.append(group)"
   ]
  },
  {
   "cell_type": "code",
   "execution_count": 30,
   "metadata": {},
   "outputs": [],
   "source": [
    "normalized_df = pd.concat(append_df, ignore_index=True)"
   ]
  },
  {
   "cell_type": "markdown",
   "metadata": {},
   "source": [
    "Analyze one to start, which can be repeated by changing the variable"
   ]
  },
  {
   "cell_type": "markdown",
   "metadata": {},
   "source": [
    "### CO2 Data"
   ]
  },
  {
   "cell_type": "markdown",
   "metadata": {},
   "source": [
    "In this database, there are many types of co2, so we want to find them from the database. co2 is the total column, so we want to verify that the total of the type_co2 add up to the total"
   ]
  },
  {
   "cell_type": "code",
   "execution_count": 31,
   "metadata": {},
   "outputs": [],
   "source": [
    "US = co_o[co_o[\"iso_code\"] == \"USA\"]"
   ]
  },
  {
   "cell_type": "code",
   "execution_count": 32,
   "metadata": {},
   "outputs": [],
   "source": [
    "selected_columns = [\n",
    "    \"country\",\n",
    "    \"year\",\n",
    "    \"iso_code\",\n",
    "    \"gdp\",\n",
    "    \"population\",\n",
    "    \"co2\",\n",
    "    \"cement_co2\",\n",
    "    \"coal_co2\",\n",
    "    \"consumption_co2\",\n",
    "    \"flaring_co2\",\n",
    "    \"gas_co2\",\n",
    "    \"oil_co2\",\n",
    "    \"other_industry_co2\"\n",
    "]"
   ]
  },
  {
   "cell_type": "code",
   "execution_count": 33,
   "metadata": {},
   "outputs": [],
   "source": [
    "U = US[selected_columns]"
   ]
  },
  {
   "cell_type": "code",
   "execution_count": 34,
   "metadata": {},
   "outputs": [
    {
     "name": "stderr",
     "output_type": "stream",
     "text": [
      "/Users/rossurbina/.conda/envs/ENVIRONMENT/lib/python3.7/site-packages/ipykernel_launcher.py:1: SettingWithCopyWarning: \n",
      "A value is trying to be set on a copy of a slice from a DataFrame.\n",
      "Try using .loc[row_indexer,col_indexer] = value instead\n",
      "\n",
      "See the caveats in the documentation: https://pandas.pydata.org/pandas-docs/stable/user_guide/indexing.html#returning-a-view-versus-a-copy\n",
      "  \"\"\"Entry point for launching an IPython kernel.\n"
     ]
    }
   ],
   "source": [
    "U['co2_total'] = U['cement_co2'] + U['coal_co2'] + U['flaring_co2'] + U['gas_co2'] + U['oil_co2'] + U['other_industry_co2']"
   ]
  },
  {
   "cell_type": "markdown",
   "metadata": {},
   "source": [
    "shown below, co2 = co2_total, so we determined all values of the co2 for our analysis"
   ]
  },
  {
   "cell_type": "code",
   "execution_count": 35,
   "metadata": {},
   "outputs": [
    {
     "data": {
      "text/html": [
       "<div>\n",
       "<style scoped>\n",
       "    .dataframe tbody tr th:only-of-type {\n",
       "        vertical-align: middle;\n",
       "    }\n",
       "\n",
       "    .dataframe tbody tr th {\n",
       "        vertical-align: top;\n",
       "    }\n",
       "\n",
       "    .dataframe thead th {\n",
       "        text-align: right;\n",
       "    }\n",
       "</style>\n",
       "<table border=\"1\" class=\"dataframe\">\n",
       "  <thead>\n",
       "    <tr style=\"text-align: right;\">\n",
       "      <th></th>\n",
       "      <th>country</th>\n",
       "      <th>year</th>\n",
       "      <th>iso_code</th>\n",
       "      <th>gdp</th>\n",
       "      <th>population</th>\n",
       "      <th>co2</th>\n",
       "      <th>cement_co2</th>\n",
       "      <th>coal_co2</th>\n",
       "      <th>consumption_co2</th>\n",
       "      <th>flaring_co2</th>\n",
       "      <th>gas_co2</th>\n",
       "      <th>oil_co2</th>\n",
       "      <th>other_industry_co2</th>\n",
       "      <th>co2_total</th>\n",
       "    </tr>\n",
       "  </thead>\n",
       "  <tbody>\n",
       "    <tr>\n",
       "      <th>48154</th>\n",
       "      <td>United States</td>\n",
       "      <td>2017</td>\n",
       "      <td>USA</td>\n",
       "      <td>1.759628e+13</td>\n",
       "      <td>329791232.0</td>\n",
       "      <td>5210.958</td>\n",
       "      <td>40.324</td>\n",
       "      <td>1308.479</td>\n",
       "      <td>5635.312</td>\n",
       "      <td>59.245</td>\n",
       "      <td>1460.392</td>\n",
       "      <td>2314.675</td>\n",
       "      <td>27.842</td>\n",
       "      <td>5210.957</td>\n",
       "    </tr>\n",
       "    <tr>\n",
       "      <th>48155</th>\n",
       "      <td>United States</td>\n",
       "      <td>2018</td>\n",
       "      <td>USA</td>\n",
       "      <td>1.814065e+13</td>\n",
       "      <td>332140032.0</td>\n",
       "      <td>5376.657</td>\n",
       "      <td>38.971</td>\n",
       "      <td>1256.202</td>\n",
       "      <td>5804.678</td>\n",
       "      <td>72.787</td>\n",
       "      <td>1618.720</td>\n",
       "      <td>2365.283</td>\n",
       "      <td>24.694</td>\n",
       "      <td>5376.657</td>\n",
       "    </tr>\n",
       "    <tr>\n",
       "      <th>48156</th>\n",
       "      <td>United States</td>\n",
       "      <td>2019</td>\n",
       "      <td>USA</td>\n",
       "      <td>NaN</td>\n",
       "      <td>334319680.0</td>\n",
       "      <td>5259.144</td>\n",
       "      <td>40.896</td>\n",
       "      <td>1070.724</td>\n",
       "      <td>5692.483</td>\n",
       "      <td>88.383</td>\n",
       "      <td>1673.999</td>\n",
       "      <td>2358.831</td>\n",
       "      <td>26.311</td>\n",
       "      <td>5259.144</td>\n",
       "    </tr>\n",
       "    <tr>\n",
       "      <th>48157</th>\n",
       "      <td>United States</td>\n",
       "      <td>2020</td>\n",
       "      <td>USA</td>\n",
       "      <td>NaN</td>\n",
       "      <td>335942016.0</td>\n",
       "      <td>4715.691</td>\n",
       "      <td>40.688</td>\n",
       "      <td>878.973</td>\n",
       "      <td>5197.398</td>\n",
       "      <td>67.684</td>\n",
       "      <td>1653.678</td>\n",
       "      <td>2049.336</td>\n",
       "      <td>25.332</td>\n",
       "      <td>4715.691</td>\n",
       "    </tr>\n",
       "    <tr>\n",
       "      <th>48158</th>\n",
       "      <td>United States</td>\n",
       "      <td>2021</td>\n",
       "      <td>USA</td>\n",
       "      <td>NaN</td>\n",
       "      <td>336997632.0</td>\n",
       "      <td>5007.336</td>\n",
       "      <td>41.203</td>\n",
       "      <td>1002.300</td>\n",
       "      <td>NaN</td>\n",
       "      <td>67.684</td>\n",
       "      <td>1637.038</td>\n",
       "      <td>2233.778</td>\n",
       "      <td>25.332</td>\n",
       "      <td>5007.335</td>\n",
       "    </tr>\n",
       "  </tbody>\n",
       "</table>\n",
       "</div>"
      ],
      "text/plain": [
       "             country  year iso_code           gdp   population       co2  \\\n",
       "48154  United States  2017      USA  1.759628e+13  329791232.0  5210.958   \n",
       "48155  United States  2018      USA  1.814065e+13  332140032.0  5376.657   \n",
       "48156  United States  2019      USA           NaN  334319680.0  5259.144   \n",
       "48157  United States  2020      USA           NaN  335942016.0  4715.691   \n",
       "48158  United States  2021      USA           NaN  336997632.0  5007.336   \n",
       "\n",
       "       cement_co2  coal_co2  consumption_co2  flaring_co2   gas_co2   oil_co2  \\\n",
       "48154      40.324  1308.479         5635.312       59.245  1460.392  2314.675   \n",
       "48155      38.971  1256.202         5804.678       72.787  1618.720  2365.283   \n",
       "48156      40.896  1070.724         5692.483       88.383  1673.999  2358.831   \n",
       "48157      40.688   878.973         5197.398       67.684  1653.678  2049.336   \n",
       "48158      41.203  1002.300              NaN       67.684  1637.038  2233.778   \n",
       "\n",
       "       other_industry_co2  co2_total  \n",
       "48154              27.842   5210.957  \n",
       "48155              24.694   5376.657  \n",
       "48156              26.311   5259.144  \n",
       "48157              25.332   4715.691  \n",
       "48158              25.332   5007.335  "
      ]
     },
     "execution_count": 35,
     "metadata": {},
     "output_type": "execute_result"
    }
   ],
   "source": [
    "U.tail()"
   ]
  },
  {
   "cell_type": "markdown",
   "metadata": {},
   "source": [
    "Gather only columns we care about"
   ]
  },
  {
   "cell_type": "code",
   "execution_count": 36,
   "metadata": {},
   "outputs": [],
   "source": [
    "co = co_o.copy()"
   ]
  },
  {
   "cell_type": "code",
   "execution_count": 37,
   "metadata": {},
   "outputs": [],
   "source": [
    "co = co[selected_columns]"
   ]
  },
  {
   "cell_type": "markdown",
   "metadata": {},
   "source": [
    "Get the per capita number of co2. Make the population in millions"
   ]
  },
  {
   "cell_type": "code",
   "execution_count": 38,
   "metadata": {},
   "outputs": [],
   "source": [
    "co['population'] = co['population'] / 1000000"
   ]
  },
  {
   "cell_type": "markdown",
   "metadata": {},
   "source": [
    "Remove NA values that don't have an ISO code, because we only want to look at countries (vs. groups like North America)"
   ]
  },
  {
   "cell_type": "code",
   "execution_count": 39,
   "metadata": {},
   "outputs": [],
   "source": [
    "co.dropna(subset=['iso_code'], inplace=True)"
   ]
  },
  {
   "cell_type": "markdown",
   "metadata": {},
   "source": [
    "Melt the data to make one column with all the values for better time analysis"
   ]
  },
  {
   "cell_type": "code",
   "execution_count": 40,
   "metadata": {},
   "outputs": [],
   "source": [
    "co_melt = pd.melt(co, id_vars =['country','year','iso_code','gdp','population'], value_vars =co.columns[5:],\n",
    "              var_name ='Type_co2', value_name ='Total')"
   ]
  },
  {
   "cell_type": "code",
   "execution_count": 41,
   "metadata": {},
   "outputs": [],
   "source": [
    "co_melt['Per_Capita'] = co_melt['Total'] / co_melt['population']"
   ]
  },
  {
   "cell_type": "code",
   "execution_count": 42,
   "metadata": {},
   "outputs": [
    {
     "data": {
      "text/html": [
       "<div>\n",
       "<style scoped>\n",
       "    .dataframe tbody tr th:only-of-type {\n",
       "        vertical-align: middle;\n",
       "    }\n",
       "\n",
       "    .dataframe tbody tr th {\n",
       "        vertical-align: top;\n",
       "    }\n",
       "\n",
       "    .dataframe thead th {\n",
       "        text-align: right;\n",
       "    }\n",
       "</style>\n",
       "<table border=\"1\" class=\"dataframe\">\n",
       "  <thead>\n",
       "    <tr style=\"text-align: right;\">\n",
       "      <th></th>\n",
       "      <th>country</th>\n",
       "      <th>year</th>\n",
       "      <th>iso_code</th>\n",
       "      <th>gdp</th>\n",
       "      <th>population</th>\n",
       "      <th>Type_co2</th>\n",
       "      <th>Total</th>\n",
       "      <th>Per_Capita</th>\n",
       "    </tr>\n",
       "  </thead>\n",
       "  <tbody>\n",
       "    <tr>\n",
       "      <th>7922</th>\n",
       "      <td>China</td>\n",
       "      <td>1850</td>\n",
       "      <td>CHN</td>\n",
       "      <td>3.534960e+11</td>\n",
       "      <td>409.821554</td>\n",
       "      <td>co2</td>\n",
       "      <td>NaN</td>\n",
       "      <td>NaN</td>\n",
       "    </tr>\n",
       "    <tr>\n",
       "      <th>7923</th>\n",
       "      <td>China</td>\n",
       "      <td>1851</td>\n",
       "      <td>CHN</td>\n",
       "      <td>NaN</td>\n",
       "      <td>407.685621</td>\n",
       "      <td>co2</td>\n",
       "      <td>NaN</td>\n",
       "      <td>NaN</td>\n",
       "    </tr>\n",
       "    <tr>\n",
       "      <th>7924</th>\n",
       "      <td>China</td>\n",
       "      <td>1852</td>\n",
       "      <td>CHN</td>\n",
       "      <td>NaN</td>\n",
       "      <td>404.840117</td>\n",
       "      <td>co2</td>\n",
       "      <td>NaN</td>\n",
       "      <td>NaN</td>\n",
       "    </tr>\n",
       "    <tr>\n",
       "      <th>7925</th>\n",
       "      <td>China</td>\n",
       "      <td>1853</td>\n",
       "      <td>CHN</td>\n",
       "      <td>NaN</td>\n",
       "      <td>401.291154</td>\n",
       "      <td>co2</td>\n",
       "      <td>NaN</td>\n",
       "      <td>NaN</td>\n",
       "    </tr>\n",
       "    <tr>\n",
       "      <th>7926</th>\n",
       "      <td>China</td>\n",
       "      <td>1854</td>\n",
       "      <td>CHN</td>\n",
       "      <td>NaN</td>\n",
       "      <td>397.773301</td>\n",
       "      <td>co2</td>\n",
       "      <td>NaN</td>\n",
       "      <td>NaN</td>\n",
       "    </tr>\n",
       "    <tr>\n",
       "      <th>...</th>\n",
       "      <td>...</td>\n",
       "      <td>...</td>\n",
       "      <td>...</td>\n",
       "      <td>...</td>\n",
       "      <td>...</td>\n",
       "      <td>...</td>\n",
       "      <td>...</td>\n",
       "      <td>...</td>\n",
       "    </tr>\n",
       "    <tr>\n",
       "      <th>8089</th>\n",
       "      <td>China</td>\n",
       "      <td>2017</td>\n",
       "      <td>CHN</td>\n",
       "      <td>1.757508e+13</td>\n",
       "      <td>1410.275968</td>\n",
       "      <td>co2</td>\n",
       "      <td>10011.107</td>\n",
       "      <td>7.098687</td>\n",
       "    </tr>\n",
       "    <tr>\n",
       "      <th>8090</th>\n",
       "      <td>China</td>\n",
       "      <td>2018</td>\n",
       "      <td>CHN</td>\n",
       "      <td>1.815162e+13</td>\n",
       "      <td>1417.069440</td>\n",
       "      <td>co2</td>\n",
       "      <td>10353.877</td>\n",
       "      <td>7.306542</td>\n",
       "    </tr>\n",
       "    <tr>\n",
       "      <th>8091</th>\n",
       "      <td>China</td>\n",
       "      <td>2019</td>\n",
       "      <td>CHN</td>\n",
       "      <td>NaN</td>\n",
       "      <td>1421.864064</td>\n",
       "      <td>co2</td>\n",
       "      <td>10740.996</td>\n",
       "      <td>7.554165</td>\n",
       "    </tr>\n",
       "    <tr>\n",
       "      <th>8092</th>\n",
       "      <td>China</td>\n",
       "      <td>2020</td>\n",
       "      <td>CHN</td>\n",
       "      <td>NaN</td>\n",
       "      <td>1424.929792</td>\n",
       "      <td>co2</td>\n",
       "      <td>10956.213</td>\n",
       "      <td>7.688949</td>\n",
       "    </tr>\n",
       "    <tr>\n",
       "      <th>8093</th>\n",
       "      <td>China</td>\n",
       "      <td>2021</td>\n",
       "      <td>CHN</td>\n",
       "      <td>NaN</td>\n",
       "      <td>1425.893504</td>\n",
       "      <td>co2</td>\n",
       "      <td>11472.368</td>\n",
       "      <td>8.045740</td>\n",
       "    </tr>\n",
       "  </tbody>\n",
       "</table>\n",
       "<p>172 rows × 8 columns</p>\n",
       "</div>"
      ],
      "text/plain": [
       "     country  year iso_code           gdp   population Type_co2      Total  \\\n",
       "7922   China  1850      CHN  3.534960e+11   409.821554      co2        NaN   \n",
       "7923   China  1851      CHN           NaN   407.685621      co2        NaN   \n",
       "7924   China  1852      CHN           NaN   404.840117      co2        NaN   \n",
       "7925   China  1853      CHN           NaN   401.291154      co2        NaN   \n",
       "7926   China  1854      CHN           NaN   397.773301      co2        NaN   \n",
       "...      ...   ...      ...           ...          ...      ...        ...   \n",
       "8089   China  2017      CHN  1.757508e+13  1410.275968      co2  10011.107   \n",
       "8090   China  2018      CHN  1.815162e+13  1417.069440      co2  10353.877   \n",
       "8091   China  2019      CHN           NaN  1421.864064      co2  10740.996   \n",
       "8092   China  2020      CHN           NaN  1424.929792      co2  10956.213   \n",
       "8093   China  2021      CHN           NaN  1425.893504      co2  11472.368   \n",
       "\n",
       "      Per_Capita  \n",
       "7922         NaN  \n",
       "7923         NaN  \n",
       "7924         NaN  \n",
       "7925         NaN  \n",
       "7926         NaN  \n",
       "...          ...  \n",
       "8089    7.098687  \n",
       "8090    7.306542  \n",
       "8091    7.554165  \n",
       "8092    7.688949  \n",
       "8093    8.045740  \n",
       "\n",
       "[172 rows x 8 columns]"
      ]
     },
     "execution_count": 42,
     "metadata": {},
     "output_type": "execute_result"
    }
   ],
   "source": [
    "co_melt[(co_melt['iso_code']=='CHN') & (co_melt['Type_co2']=='co2')]"
   ]
  },
  {
   "cell_type": "markdown",
   "metadata": {},
   "source": [
    "## Export data to csv for Tableau"
   ]
  },
  {
   "cell_type": "markdown",
   "metadata": {},
   "source": [
    "##### Tableau Public only takes csv files, so need to export csv files then import those into Tableau Public, vs. a direct connect from Python"
   ]
  },
  {
   "cell_type": "markdown",
   "metadata": {},
   "source": [
    "co_melt.to_csv(\"/Users/rossurbina/Box Sync/Data Analytics Learning/Data Projects/Climate_Data/Export/co2_levels.csv\")"
   ]
  },
  {
   "cell_type": "markdown",
   "metadata": {},
   "source": [
    "land.to_csv(\"/Users/rossurbina/Box Sync/Data Analytics Learning/Data Projects/Climate_Data/Export/land.csv\")\n",
    "fc.to_csv(\"/Users/rossurbina/Box Sync/Data Analytics Learning/Data Projects/Climate_Data/Export/fc.csv\")\n",
    "\n",
    "temp.to_csv(\"/Users/rossurbina/Box Sync/Data Analytics Learning/Data Projects/Climate_Data/Export/temp.csv\")\n",
    "dis.to_csv(\"/Users/rossurbina/Box Sync/Data Analytics Learning/Data Projects/Climate_Data/Export/dis.csv\")"
   ]
  },
  {
   "cell_type": "markdown",
   "metadata": {},
   "source": [
    "df.to_csv(\"/Users/rossurbina/Box Sync/Data Analytics Learning/Data Projects/Climate_Data/Export/climate_data.csv\")"
   ]
  },
  {
   "cell_type": "markdown",
   "metadata": {},
   "source": [
    "df_normalized.to_csv(\"/Users/rossurbina/Box Sync/Data Analytics Learning/Data Projects/Climate_Data/Export/climate_data_normalized.csv\")"
   ]
  }
 ],
 "metadata": {
  "kernelspec": {
   "display_name": "Python 3",
   "language": "python",
   "name": "python3"
  },
  "language_info": {
   "codemirror_mode": {
    "name": "ipython",
    "version": 3
   },
   "file_extension": ".py",
   "mimetype": "text/x-python",
   "name": "python",
   "nbconvert_exporter": "python",
   "pygments_lexer": "ipython3",
   "version": "3.7.8"
  }
 },
 "nbformat": 4,
 "nbformat_minor": 4
}
